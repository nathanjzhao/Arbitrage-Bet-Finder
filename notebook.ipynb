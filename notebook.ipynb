{
 "cells": [
  {
   "cell_type": "code",
   "execution_count": 13,
   "metadata": {},
   "outputs": [],
   "source": [
    "import tqdm\n",
    "import json\n",
    "import requests\n",
    "import os\n",
    "from dotenv import load_dotenv \n",
    "\n",
    "load_dotenv()\n",
    "\n",
    "BASE_URL = \"https://api.the-odds-api.com/v4\"\n",
    "API_KEY = os.environ.get(\"ODDS_API_KEY\")\n",
    "\n",
    "REGIONS = [\"eu\"] # Betting regions\n",
    "MARKETS = [\"h2h\"] # Betting markets to choose from \n",
    "SPORT = \"basketball_nba_preseason\" # Sport to interact with. Choose in the print sports cell.\n",
    "\n",
    "THRESHOLD = 0.05 # # Accounts for percentage losses from vigorish"
   ]
  },
  {
   "cell_type": "code",
   "execution_count": 14,
   "metadata": {},
   "outputs": [],
   "source": [
    "def get_sports(key) -> list:\n",
    "    url = f\"{BASE_URL}/sports/\"\n",
    "\n",
    "    response = requests.get(url, params= {\n",
    "        \"apiKey\" : key\n",
    "    })\n",
    "\n",
    "    return list({sport[\"key\"] for sport in response.json()})\n",
    "\n",
    "def get_data(key, sport, regions, markets) -> list:\n",
    "\n",
    "    url = f\"{BASE_URL}/sports/{sport}/odds/\"\n",
    "\n",
    "    response = requests.get(url, params={\n",
    "        \"apiKey\" : key,\n",
    "        \"regions\" : \",\".join(regions),\n",
    "        \"markets\" : \",\".join(markets),\n",
    "        \"oddsFormat\" : \"decimal\" # American = +/-100 * (fraction odds of winning or losing, whichever >= 1). Sign based on win/loss\n",
    "\n",
    "        # finding select bookmakers with frequent mispricings would improve arbitrage finding rates\n",
    "        # \"bookmakers\" : TBA\n",
    "    })\n",
    "\n",
    "    print('Remaining requests', response.headers['x-requests-remaining'])\n",
    "    print('Used requests', response.headers['x-requests-used'])\n",
    "    \n",
    "    return response.json()"
   ]
  },
  {
   "cell_type": "code",
   "execution_count": 15,
   "metadata": {},
   "outputs": [],
   "source": [
    "def filter_arbitrages(data, threshold):\n",
    "    arbitrages = {}\n",
    "    for match in data:\n",
    "        for bookmaker in match[\"bookmakers\"]:\n",
    "            for market in bookmaker[\"markets\"]:\n",
    "                implied_odds = sum(1/outcome[\"price\"] for outcome in market[\"outcomes\"])\n",
    "                \n",
    "                if implied_odds < 1 - threshold:\n",
    "\n",
    "                    match_name = f'{match[\"home_team\"]} vs. {match[\"away_team\"]}'\n",
    "\n",
    "                    if implied_odds > arbitrages.get(match_name, (-1, -1, -1))[-1]:\n",
    "                        arbitrages[match_name] = {\"bookmaker\" : bookmaker[\"key\"], \"market\" : market[\"key\"], \"odds\" : implied_odds}\n",
    "\n",
    "    return arbitrages"
   ]
  },
  {
   "cell_type": "code",
   "execution_count": 16,
   "metadata": {},
   "outputs": [
    {
     "name": "stdout",
     "output_type": "stream",
     "text": [
      "['soccer_brazil_serie_b', 'soccer_belgium_first_div', 'soccer_turkey_super_league', 'basketball_euroleague', 'baseball_mlb_world_series_winner', 'soccer_england_league2', 'soccer_netherlands_eredivisie', 'americanfootball_cfl', 'icehockey_sweden_hockey_league', 'soccer_conmebol_copa_libertadores', 'soccer_germany_liga3', 'soccer_italy_serie_a', 'soccer_norway_eliteserien', 'soccer_france_ligue_one', 'golf_pga_championship_winner', 'soccer_switzerland_superleague', 'soccer_finland_veikkausliiga', 'americanfootball_ncaaf', 'americanfootball_nfl_super_bowl_winner', 'golf_masters_tournament_winner', 'soccer_uefa_champs_league', 'icehockey_nhl', 'soccer_uefa_europa_league', 'soccer_france_ligue_two', 'basketball_nba', 'soccer_japan_j_league', 'soccer_uefa_europa_conference_league', 'basketball_wnba', 'soccer_sweden_superettan', 'soccer_brazil_campeonato', 'soccer_england_league1', 'icehockey_nhl_championship_winner', 'golf_the_open_championship_winner', 'basketball_nba_preseason', 'rugbyunion_world_cup', 'soccer_germany_bundesliga2', 'soccer_league_of_ireland', 'soccer_spain_segunda_division', 'soccer_usa_mls', 'soccer_mexico_ligamx', 'baseball_mlb', 'basketball_nba_championship_winner', 'icehockey_sweden_allsvenskan', 'soccer_efl_champ', 'soccer_germany_bundesliga', 'soccer_greece_super_league', 'soccer_denmark_superliga', 'soccer_poland_ekstraklasa', 'basketball_ncaab', 'soccer_epl', 'golf_us_open_winner', 'soccer_italy_serie_b', 'soccer_chile_campeonato', 'soccer_austria_bundesliga', 'soccer_sweden_allsvenskan', 'soccer_spain_la_liga', 'cricket_icc_world_cup', 'soccer_australia_aleague', 'americanfootball_nfl', 'mma_mixed_martial_arts', 'soccer_spl', 'soccer_england_efl_cup', 'boxing_boxing']\n"
     ]
    }
   ],
   "source": [
    "sports = get_sports(API_KEY)\n",
    "\n",
    "print(sports) # See possible sports to choose from"
   ]
  },
  {
   "cell_type": "code",
   "execution_count": 17,
   "metadata": {},
   "outputs": [
    {
     "name": "stdout",
     "output_type": "stream",
     "text": [
      "Remaining requests 477\n",
      "Used requests 23\n"
     ]
    }
   ],
   "source": [
    "pricings_data = get_data(API_KEY, SPORT if SPORT else sports[0], REGIONS, MARKETS)"
   ]
  },
  {
   "cell_type": "code",
   "execution_count": 18,
   "metadata": {},
   "outputs": [],
   "source": [
    "arbitrages = filter_arbitrages(pricings_data, THRESHOLD) "
   ]
  },
  {
   "cell_type": "code",
   "execution_count": 19,
   "metadata": {},
   "outputs": [
    {
     "name": "stdout",
     "output_type": "stream",
     "text": [
      "Match: Philadelphia 76ers vs. Boston Celtics, Bookmaker: betfair_ex_eu,         Market: h2h_lay, Total Implied Odds: 0.9117693900302596\n",
      "Match: Los Angeles Lakers vs. Sacramento Kings, Bookmaker: betfair_ex_eu,         Market: h2h_lay, Total Implied Odds: 0.9202195018995357\n"
     ]
    }
   ],
   "source": [
    "if len(arbitrages) == 0:\n",
    "    print(f\"No arbitrages found for threshold {THRESHOLD} in sport {SPORT if SPORT else sports[0]}.\")\n",
    "\n",
    "for match_name in arbitrages:\n",
    "    details = arbitrages[match_name]\n",
    "    print(f'Match: {match_name}, Bookmaker: {details[\"bookmaker\"]}, \\\n",
    "        Market: {details[\"market\"]}, Total Implied Odds: {details[\"odds\"]}')"
   ]
  }
 ],
 "metadata": {
  "kernelspec": {
   "display_name": "Python 3.9.6 64-bit",
   "language": "python",
   "name": "python3"
  },
  "language_info": {
   "codemirror_mode": {
    "name": "ipython",
    "version": 3
   },
   "file_extension": ".py",
   "mimetype": "text/x-python",
   "name": "python",
   "nbconvert_exporter": "python",
   "pygments_lexer": "ipython3",
   "version": "3.9.6"
  },
  "orig_nbformat": 4,
  "vscode": {
   "interpreter": {
    "hash": "31f2aee4e71d21fbe5cf8b01ff0e069b9275f58929596ceb00d14d90e3e16cd6"
   }
  }
 },
 "nbformat": 4,
 "nbformat_minor": 2
}
