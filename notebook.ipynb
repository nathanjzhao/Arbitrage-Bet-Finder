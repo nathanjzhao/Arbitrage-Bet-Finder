{
 "cells": [
  {
   "cell_type": "code",
   "execution_count": 1,
   "metadata": {},
   "outputs": [
    {
     "name": "stderr",
     "output_type": "stream",
     "text": [
      "/Users/nathanzhao/Library/Python/3.9/lib/python/site-packages/urllib3/__init__.py:34: NotOpenSSLWarning: urllib3 v2.0 only supports OpenSSL 1.1.1+, currently the 'ssl' module is compiled with 'LibreSSL 2.8.3'. See: https://github.com/urllib3/urllib3/issues/3020\n",
      "  warnings.warn(\n"
     ]
    }
   ],
   "source": [
    "import tqdm\n",
    "import json\n",
    "import requests\n",
    "import os\n",
    "from dotenv import load_dotenv \n",
    "\n",
    "load_dotenv()\n",
    "\n",
    "BASE_URL = \"https://api.the-odds-api.com/v4\"\n",
    "API_KEY = os.environ.get(\"ODDS_API_KEY\")\n",
    "\n",
    "REGIONS = [\"eu\"] # Betting regions\n",
    "MARKETS = [\"h2h\"] # Betting markets to choose from \n",
    "SPORT = \"basketball_nba_preseason\" # Sport to interact with. Choose in the print sports cell.\n",
    "\n",
    "THRESHOLD = 0.05 # # Accounts for percentage losses from vigorish"
   ]
  },
  {
   "cell_type": "code",
   "execution_count": 2,
   "metadata": {},
   "outputs": [],
   "source": [
    "def get_sports(key) -> list:\n",
    "    url = f\"{BASE_URL}/sports/\"\n",
    "\n",
    "    response = requests.get(url, params= {\n",
    "        \"apiKey\" : key\n",
    "    })\n",
    "\n",
    "    return list({sport[\"key\"] for sport in response.json()})\n",
    "\n",
    "def get_data(key, sport, regions, markets) -> list:\n",
    "\n",
    "    url = f\"{BASE_URL}/sports/{sport}/odds/\"\n",
    "\n",
    "    response = requests.get(url, params={\n",
    "        \"apiKey\" : key,\n",
    "        \"regions\" : \",\".join(regions),\n",
    "        \"markets\" : \",\".join(markets),\n",
    "        \"oddsFormat\" : \"decimal\" # American = +/-100 * (fraction odds of winning or losing, whichever >= 1). Sign based on win/loss\n",
    "\n",
    "        # finding select bookmakers with frequent mispricings would improve arbitrage finding rates\n",
    "        # \"bookmakers\" : TBA\n",
    "    })\n",
    "\n",
    "    print('Remaining requests', response.headers['x-requests-remaining'])\n",
    "    print('Used requests', response.headers['x-requests-used'])\n",
    "    \n",
    "    return response.json()"
   ]
  },
  {
   "cell_type": "code",
   "execution_count": 9,
   "metadata": {},
   "outputs": [],
   "source": [
    "def filter_arbitrages(data, markets, threshold):\n",
    "    MAX_VAL = 10**9\n",
    "\n",
    "    arbitrages = {}\n",
    "    odds_counts = {}\n",
    "\n",
    "    if \"h2h\" in markets:\n",
    "        odds_counts[\"h2h\"] = (MAX_VAL) * 3 # WIN, LOSE, DRAW --- some sports have draws others don't?\n",
    "    \n",
    "    for match in data:\n",
    "        for bookmaker in match[\"bookmakers\"]:\n",
    "            for market in bookmaker[\"markets\"]:\n",
    "                market_name = market[\"key\"]\n",
    "                if market_name == \"h2h\":\n",
    "                    print(market)\n",
    "                    implied_odds = sum(1/outcome[\"price\"] for outcome in market[\"outcomes\"])\n",
    "                \n",
    "                if implied_odds < 1 - threshold:\n",
    "\n",
    "                    match_name = f'{match[\"home_team\"]} vs. {match[\"away_team\"]}'\n",
    "\n",
    "\n",
    "                    if implied_odds > arbitrages.get(match_name, (-1, -1, -1))[-1]:\n",
    "                        arbitrages[match_name] = {\"bookmaker\" : bookmaker[\"key\"], \"market\" : market[\"key\"], \"odds\" : implied_odds}\n",
    "\n",
    "    return arbitrages"
   ]
  },
  {
   "cell_type": "code",
   "execution_count": 4,
   "metadata": {},
   "outputs": [
    {
     "name": "stdout",
     "output_type": "stream",
     "text": [
      "['soccer_uefa_europa_league', 'icehockey_nhl_championship_winner', 'soccer_netherlands_eredivisie', 'soccer_brazil_campeonato', 'soccer_poland_ekstraklasa', 'soccer_norway_eliteserien', 'soccer_usa_mls', 'soccer_mexico_ligamx', 'soccer_italy_serie_b', 'soccer_finland_veikkausliiga', 'soccer_austria_bundesliga', 'soccer_germany_bundesliga', 'basketball_euroleague', 'rugbyunion_world_cup', 'soccer_uefa_euro_qualification', 'soccer_spain_la_liga', 'soccer_epl', 'soccer_belgium_first_div', 'soccer_france_ligue_two', 'basketball_nba_championship_winner', 'soccer_australia_aleague', 'soccer_england_league1', 'basketball_wnba', 'soccer_sweden_superettan', 'soccer_england_league2', 'basketball_ncaab', 'soccer_japan_j_league', 'soccer_spain_segunda_division', 'soccer_uefa_europa_conference_league', 'cricket_icc_world_cup', 'icehockey_sweden_hockey_league', 'soccer_england_efl_cup', 'soccer_germany_bundesliga2', 'soccer_denmark_superliga', 'golf_masters_tournament_winner', 'soccer_uefa_champs_league', 'americanfootball_ncaaf', 'golf_the_open_championship_winner', 'basketball_nba_preseason', 'golf_us_open_winner', 'soccer_efl_champ', 'americanfootball_nfl_super_bowl_winner', 'soccer_france_ligue_one', 'soccer_turkey_super_league', 'soccer_chile_campeonato', 'americanfootball_nfl', 'golf_pga_championship_winner', 'soccer_brazil_serie_b', 'soccer_korea_kleague1', 'boxing_boxing', 'mma_mixed_martial_arts', 'soccer_china_superleague', 'soccer_conmebol_copa_libertadores', 'soccer_greece_super_league', 'soccer_germany_liga3', 'basketball_nba', 'icehockey_sweden_allsvenskan', 'soccer_spl', 'soccer_switzerland_superleague', 'baseball_mlb', 'soccer_sweden_allsvenskan', 'soccer_italy_serie_a', 'baseball_mlb_world_series_winner', 'icehockey_nhl']\n"
     ]
    }
   ],
   "source": [
    "sports = get_sports(API_KEY)\n",
    "\n",
    "print(sports) # See possible sports to choose from"
   ]
  },
  {
   "cell_type": "code",
   "execution_count": 5,
   "metadata": {},
   "outputs": [
    {
     "name": "stdout",
     "output_type": "stream",
     "text": [
      "Remaining requests 473\n",
      "Used requests 27\n"
     ]
    }
   ],
   "source": [
    "pricings_data = get_data(API_KEY, SPORT if SPORT else sports[0], REGIONS, MARKETS)"
   ]
  },
  {
   "cell_type": "code",
   "execution_count": 10,
   "metadata": {},
   "outputs": [
    {
     "name": "stdout",
     "output_type": "stream",
     "text": [
      "{'key': 'h2h', 'last_update': '2023-10-16T05:36:42Z', 'outcomes': [{'name': 'Atlanta Hawks', 'price': 2.08}, {'name': 'Indiana Pacers', 'price': 1.76}]}\n",
      "{'key': 'h2h', 'last_update': '2023-10-16T05:36:53Z', 'outcomes': [{'name': 'Atlanta Hawks', 'price': 2.03}, {'name': 'Indiana Pacers', 'price': 1.8}]}\n",
      "{'key': 'h2h', 'last_update': '2023-10-16T05:36:42Z', 'outcomes': [{'name': 'Brooklyn Nets', 'price': 2.1}, {'name': 'Philadelphia 76ers', 'price': 1.72}]}\n",
      "{'key': 'h2h', 'last_update': '2023-10-16T05:36:53Z', 'outcomes': [{'name': 'Brooklyn Nets', 'price': 2.09}, {'name': 'Philadelphia 76ers', 'price': 1.75}]}\n",
      "{'key': 'h2h', 'last_update': '2023-10-16T05:36:42Z', 'outcomes': [{'name': 'Houston Rockets', 'price': 1.53}, {'name': 'San Antonio Spurs', 'price': 2.5}]}\n",
      "{'key': 'h2h', 'last_update': '2023-10-16T05:36:53Z', 'outcomes': [{'name': 'Houston Rockets', 'price': 1.57}, {'name': 'San Antonio Spurs', 'price': 2.43}]}\n",
      "{'key': 'h2h', 'last_update': '2023-10-16T05:36:53Z', 'outcomes': [{'name': 'Phoenix Suns', 'price': 1.46}, {'name': 'Portland Trail Blazers', 'price': 2.73}]}\n",
      "{'key': 'h2h', 'last_update': '2023-10-16T05:36:42Z', 'outcomes': [{'name': 'Phoenix Suns', 'price': 1.42}, {'name': 'Portland Trail Blazers', 'price': 2.54}]}\n",
      "{}\n"
     ]
    }
   ],
   "source": [
    "arbitrages = filter_arbitrages(pricings_data, MARKETS, THRESHOLD) \n",
    "print(arbitrages)"
   ]
  },
  {
   "cell_type": "code",
   "execution_count": 19,
   "metadata": {},
   "outputs": [
    {
     "name": "stdout",
     "output_type": "stream",
     "text": [
      "Match: Philadelphia 76ers vs. Boston Celtics, Bookmaker: betfair_ex_eu,         Market: h2h_lay, Total Implied Odds: 0.9117693900302596\n",
      "Match: Los Angeles Lakers vs. Sacramento Kings, Bookmaker: betfair_ex_eu,         Market: h2h_lay, Total Implied Odds: 0.9202195018995357\n"
     ]
    }
   ],
   "source": [
    "if len(arbitrages) == 0:\n",
    "    print(f\"No arbitrages found for threshold {THRESHOLD} in sport {SPORT if SPORT else sports[0]}.\")\n",
    "\n",
    "for match_name in arbitrages:\n",
    "    details = arbitrages[match_name]\n",
    "    print(f'Match: {match_name}, Bookmaker: {details[\"bookmaker\"]}, \\\n",
    "        Market: {details[\"market\"]}, Total Implied Odds: {details[\"odds\"]}')"
   ]
  }
 ],
 "metadata": {
  "kernelspec": {
   "display_name": "Python 3.9.6 64-bit",
   "language": "python",
   "name": "python3"
  },
  "language_info": {
   "codemirror_mode": {
    "name": "ipython",
    "version": 3
   },
   "file_extension": ".py",
   "mimetype": "text/x-python",
   "name": "python",
   "nbconvert_exporter": "python",
   "pygments_lexer": "ipython3",
   "version": "3.10.12"
  },
  "orig_nbformat": 4,
  "vscode": {
   "interpreter": {
    "hash": "31f2aee4e71d21fbe5cf8b01ff0e069b9275f58929596ceb00d14d90e3e16cd6"
   }
  }
 },
 "nbformat": 4,
 "nbformat_minor": 2
}
